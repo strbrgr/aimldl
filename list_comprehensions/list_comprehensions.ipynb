{
  "nbformat": 4,
  "nbformat_minor": 0,
  "metadata": {
    "colab": {
      "provenance": []
    },
    "kernelspec": {
      "name": "python3",
      "display_name": "Python 3"
    },
    "language_info": {
      "name": "python"
    }
  },
  "cells": [
    {
      "cell_type": "code",
      "execution_count": null,
      "metadata": {
        "id": "FJRuLM3CirGc"
      },
      "outputs": [],
      "source": [
        "#Find all of the numbers from 1-1000 that are divisible by 7\n",
        "q1 = [n for n in range(1, 1001) if n % 7 == 0]"
      ]
    },
    {
      "cell_type": "code",
      "source": [
        "# Find all of the numbers from 1-1000 that have a 3 in them\n",
        "q2 = [n for n in range(1, 1000) if '3' in str(n)]"
      ],
      "metadata": {
        "id": "DZgTwEJ2jX8_"
      },
      "execution_count": null,
      "outputs": []
    },
    {
      "cell_type": "code",
      "source": [
        "# Count the number of spaces in a string\n",
        "str = \"How many spaces are in this string?\"\n",
        "q3 = [space for space in str if space == ' ']\n",
        "len(q3)"
      ],
      "metadata": {
        "colab": {
          "base_uri": "https://localhost:8080/"
        },
        "id": "d76lcAqckI_F",
        "outputId": "3d596091-fb32-4d69-f843-ab007fd76f30"
      },
      "execution_count": null,
      "outputs": [
        {
          "output_type": "execute_result",
          "data": {
            "text/plain": [
              "6"
            ]
          },
          "metadata": {},
          "execution_count": 10
        }
      ]
    },
    {
      "cell_type": "code",
      "source": [
        "# Create a list of all the consonants in the string “Yellow Yaks like yelling and yawning and yesturday they yodled while eating yuky yams”\n",
        "str = \"Yellow Yaks like yelling and yawning and yesturday they yodled while eating yuky yams\"\n",
        "consonants = [c for c in str if c not in 'a,e,i,o,u, \" \"']\n",
        "len(consonants)"
      ],
      "metadata": {
        "colab": {
          "base_uri": "https://localhost:8080/"
        },
        "id": "-A5_S9gMlLzk",
        "outputId": "b92b5620-28c1-499a-faa8-f510e79f4d9f"
      },
      "execution_count": null,
      "outputs": [
        {
          "output_type": "execute_result",
          "data": {
            "text/plain": [
              "48"
            ]
          },
          "metadata": {},
          "execution_count": 15
        }
      ]
    },
    {
      "cell_type": "code",
      "source": [
        "# Find the common numbers in two lists (without using a tuple or set) list_a = 1, 2, 3, 4, list_b = 2, 3, 4, 5\n",
        "list_a = 1, 2, 3, 4\n",
        "list_b = 2, 3, 4, 5\n",
        "common = [(n) for _, n in enumerate(list_a) if n in list_b]\n",
        "common"
      ],
      "metadata": {
        "colab": {
          "base_uri": "https://localhost:8080/"
        },
        "id": "631TehlvpIxu",
        "outputId": "8d5367ff-4e95-4c2a-c718-a82858bb4312"
      },
      "execution_count": null,
      "outputs": [
        {
          "output_type": "execute_result",
          "data": {
            "text/plain": [
              "[2, 3, 4]"
            ]
          },
          "metadata": {},
          "execution_count": 22
        }
      ]
    },
    {
      "cell_type": "code",
      "source": [
        "# Get only the numbers in a sentence like ‘In 1984 there were 13 instances of a protest with over 1000 people attending’\n",
        "str = \"In 1984 there were 13 instances of a protest with over 1000 people attending\"\n",
        "res = [s for s in str.split(\" \") if s.isnumeric()]\n",
        "res"
      ],
      "metadata": {
        "colab": {
          "base_uri": "https://localhost:8080/"
        },
        "id": "YDib9BYcp_tk",
        "outputId": "639ea64c-7d45-4e00-e49a-74ff8848c0c5"
      },
      "execution_count": null,
      "outputs": [
        {
          "output_type": "execute_result",
          "data": {
            "text/plain": [
              "['1984', '13', '1000']"
            ]
          },
          "metadata": {},
          "execution_count": 27
        }
      ]
    },
    {
      "cell_type": "code",
      "source": [
        "# Given numbers = range(20), produce a list containing the word ‘even’ if a number in the numbers is even, and the word ‘odd’ if the number is odd. Result would look like ‘odd’,’odd’, ‘even’\n",
        "numbers = range(20)\n",
        "list = ['even' if res % 2 == 0 else 'odd' for res in numbers]\n",
        "list"
      ],
      "metadata": {
        "colab": {
          "base_uri": "https://localhost:8080/"
        },
        "id": "R_2Y9ICqtbZs",
        "outputId": "16dd538e-d9c0-4a34-c1a0-11984d586f19"
      },
      "execution_count": null,
      "outputs": [
        {
          "output_type": "execute_result",
          "data": {
            "text/plain": [
              "['even',\n",
              " 'odd',\n",
              " 'even',\n",
              " 'odd',\n",
              " 'even',\n",
              " 'odd',\n",
              " 'even',\n",
              " 'odd',\n",
              " 'even',\n",
              " 'odd',\n",
              " 'even',\n",
              " 'odd',\n",
              " 'even',\n",
              " 'odd',\n",
              " 'even',\n",
              " 'odd',\n",
              " 'even',\n",
              " 'odd',\n",
              " 'even',\n",
              " 'odd']"
            ]
          },
          "metadata": {},
          "execution_count": 30
        }
      ]
    },
    {
      "cell_type": "code",
      "source": [
        "# Produce a list of tuples consisting of only the matching numbers in these lists list_a = 1, 2, 3,4,5,6,7,8,9, list_b = 2, 7, 1, 12. Result would look like (4,4), (12,12)\n",
        "list_a = [1,2,3,4,5,6,7,8,9]\n",
        "list_b = [2, 7, 1, 12]\n",
        "res = [(n, n) for n in list_a if n in list_b]\n",
        "res"
      ],
      "metadata": {
        "colab": {
          "base_uri": "https://localhost:8080/"
        },
        "id": "a1DZ5MGzu_gu",
        "outputId": "b9f9fc59-4e8f-41ca-c839-b0fb68ea2bb5"
      },
      "execution_count": null,
      "outputs": [
        {
          "output_type": "execute_result",
          "data": {
            "text/plain": [
              "[(1, 1), (2, 2), (7, 7)]"
            ]
          },
          "metadata": {},
          "execution_count": 36
        }
      ]
    },
    {
      "cell_type": "code",
      "source": [
        "# Find all of the words in a string that are less than 4 letters\n",
        "sentence = 'On a summer day somner smith went simming in the sun and his red skin stung'\n",
        "res = [w for w in sentence.split() if len(w) < 4]\n",
        "res"
      ],
      "metadata": {
        "colab": {
          "base_uri": "https://localhost:8080/"
        },
        "id": "TnOlSZF2vyD4",
        "outputId": "9c963650-62f5-4965-bc3a-6ae28602fd04"
      },
      "execution_count": null,
      "outputs": [
        {
          "output_type": "execute_result",
          "data": {
            "text/plain": [
              "['On', 'a', 'day', 'in', 'the', 'sun', 'and', 'his', 'red']"
            ]
          },
          "metadata": {},
          "execution_count": 38
        }
      ]
    }
  ]
}